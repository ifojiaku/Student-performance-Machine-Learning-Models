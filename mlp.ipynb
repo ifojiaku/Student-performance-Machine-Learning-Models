{
 "cells": [
  {
   "cell_type": "markdown",
   "metadata": {},
   "source": [
    "### Libraries and Warning Suppression"
   ]
  },
  {
   "cell_type": "code",
   "execution_count": 20,
   "metadata": {},
   "outputs": [],
   "source": [
    "# Import required libraries\n",
    "import pandas as pd\n",
    "import numpy as np\n",
    "from sklearn.model_selection import train_test_split, cross_validate, GridSearchCV\n",
    "from sklearn.preprocessing import StandardScaler, LabelEncoder\n",
    "from sklearn.neural_network import MLPClassifier\n",
    "from sklearn.metrics import make_scorer, precision_score, recall_score, f1_score\n",
    "from sklearn.metrics import roc_auc_score, classification_report, accuracy_score, confusion_matrix\n",
    "from imblearn.over_sampling import SMOTE\n",
    "import matplotlib.pyplot as plt\n",
    "import seaborn as sns"
   ]
  },
  {
   "cell_type": "code",
   "execution_count": 21,
   "metadata": {},
   "outputs": [],
   "source": [
    "import warnings\n",
    "warnings.filterwarnings('ignore')"
   ]
  },
  {
   "cell_type": "markdown",
   "metadata": {},
   "source": [
    "### Helper Function"
   ]
  },
  {
   "cell_type": "code",
   "execution_count": 22,
   "metadata": {},
   "outputs": [],
   "source": [
    "# Helper function for score aggregation\n",
    "def aggregate_classes(score):\n",
    "    if score < 55:\n",
    "        return \"Below 55\"\n",
    "    elif score <= 60:\n",
    "        return \"55-60\"\n",
    "    elif score <= 65:\n",
    "        return \"61-65\"\n",
    "    elif score <= 70:\n",
    "        return \"66-70\"\n",
    "    elif score <= 75:\n",
    "        return \"71-75\"\n",
    "    elif score <= 80:\n",
    "        return \"76-80\"\n",
    "    else:\n",
    "        return \"81+\""
   ]
  },
  {
   "cell_type": "markdown",
   "metadata": {},
   "source": [
    "### Load Dataset and Preprocess data"
   ]
  },
  {
   "cell_type": "code",
   "execution_count": 23,
   "metadata": {},
   "outputs": [],
   "source": [
    "# Load and preprocess data\n",
    "df = pd.read_csv(\"student_performance/StudentPerformanceFactorsAdjusted.csv\")\n",
    "\n",
    "# Encode categorical variables\n",
    "label_encoders = {}\n",
    "categorical_columns = df.select_dtypes(include='object').columns\n",
    "\n",
    "for col in categorical_columns:\n",
    "    le = LabelEncoder()\n",
    "    df[col] = le.fit_transform(df[col])\n",
    "    label_encoders[col] = le\n",
    "\n",
    "# Prepare features and target\n",
    "X = df.drop('Exam_Score', axis=1)\n",
    "y = df['Exam_Score'].map(aggregate_classes)\n",
    "\n",
    "# Scale features\n",
    "scaler = StandardScaler()\n",
    "X_scaled = scaler.fit_transform(X)\n",
    "X_scaled = pd.DataFrame(X_scaled, columns=X.columns)"
   ]
  },
  {
   "cell_type": "markdown",
   "metadata": {},
   "source": [
    "### Untuned without SMOTE"
   ]
  },
  {
   "cell_type": "code",
   "execution_count": 24,
   "metadata": {},
   "outputs": [],
   "source": [
    "# Define scorers\n",
    "scorers = {\n",
    "    'accuracy': 'accuracy',\n",
    "    'precision': make_scorer(precision_score, average='weighted', zero_division=0),\n",
    "    'recall': make_scorer(recall_score, average='weighted', zero_division=0),\n",
    "    'f1': make_scorer(f1_score, average='weighted', zero_division=0),\n",
    "    'roc_auc': make_scorer(roc_auc_score, average='macro', multi_class='ovr')\n",
    "}"
   ]
  },
  {
   "cell_type": "code",
   "execution_count": 25,
   "metadata": {},
   "outputs": [
    {
     "name": "stdout",
     "output_type": "stream",
     "text": [
      "\n",
      "Evaluating initial model (before tuning, before SMOTE)...\n"
     ]
    }
   ],
   "source": [
    "# Initial model evaluation (before tuning, before SMOTE)\n",
    "print(\"\\nEvaluating initial model (before tuning, before SMOTE)...\")\n",
    "initial_mlp = MLPClassifier(random_state=42, max_iter=500)"
   ]
  },
  {
   "cell_type": "code",
   "execution_count": 26,
   "metadata": {},
   "outputs": [
    {
     "name": "stdout",
     "output_type": "stream",
     "text": [
      "\n",
      "Metrics before tuning (original data):\n",
      "Accuracy: Mean = 0.8842, Std = 0.0058\n",
      "Precision: Mean = 0.8844, Std = 0.0081\n",
      "Recall: Mean = 0.8842, Std = 0.0058\n",
      "F1: Mean = 0.8839, Std = 0.0069\n",
      "AUC: Mean = nan, Std = nan\n"
     ]
    }
   ],
   "source": [
    "# Tuning\n",
    "cv_results = cross_validate(initial_mlp, X_scaled, y, cv=5, scoring=scorers)\n",
    "\n",
    "# Calculate metrics before tuning\n",
    "metrics_before_tuning = {\n",
    "    \"Accuracy\": (cv_results['test_accuracy'].mean(), cv_results['test_accuracy'].std()),\n",
    "    \"Precision\": (cv_results['test_precision'].mean(), cv_results['test_precision'].std()),\n",
    "    \"Recall\": (cv_results['test_recall'].mean(), cv_results['test_recall'].std()),\n",
    "    \"F1\": (cv_results['test_f1'].mean(), cv_results['test_f1'].std()),\n",
    "    \"AUC\": (cv_results['test_roc_auc'].mean(), cv_results['test_roc_auc'].std())\n",
    "}\n",
    "\n",
    "print(\"\\nMetrics before tuning (original data):\")\n",
    "for metric, (mean, std) in metrics_before_tuning.items():\n",
    "    print(f\"{metric}: Mean = {mean:.4f}, Std = {std:.4f}\")"
   ]
  },
  {
   "cell_type": "markdown",
   "metadata": {},
   "source": [
    "### Tuned without SMOTE"
   ]
  },
  {
   "cell_type": "code",
   "execution_count": 27,
   "metadata": {},
   "outputs": [],
   "source": [
    "# Define parameter grid for MLP\n",
    "param_grid = {\n",
    "    'hidden_layer_sizes': [(50,), (100,), (50, 50), (100, 50)],\n",
    "    'activation': ['relu', 'tanh'],\n",
    "    'learning_rate_init': [0.001, 0.01],\n",
    "    'max_iter': [500]\n",
    "}"
   ]
  },
  {
   "cell_type": "code",
   "execution_count": 28,
   "metadata": {},
   "outputs": [
    {
     "name": "stdout",
     "output_type": "stream",
     "text": [
      "\n",
      "Performing hyperparameter tuning on original data...\n"
     ]
    }
   ],
   "source": [
    "# Perform GridSearchCV on original data\n",
    "print(\"\\nPerforming hyperparameter tuning on original data...\")\n",
    "grid_search = GridSearchCV(MLPClassifier(random_state=42), param_grid, cv=5, scoring='f1_weighted', n_jobs=-1)\n",
    "grid_search.fit(X_scaled, y)\n",
    "best_mlp = grid_search.best_estimator_"
   ]
  },
  {
   "cell_type": "code",
   "execution_count": 29,
   "metadata": {},
   "outputs": [
    {
     "name": "stdout",
     "output_type": "stream",
     "text": [
      "\n",
      "Metrics after tuning (original data):\n",
      "Accuracy: Mean = 0.8931, Std = 0.0075\n",
      "Precision: Mean = 0.8889, Std = 0.0083\n",
      "Recall: Mean = 0.8931, Std = 0.0075\n",
      "F1: Mean = 0.8906, Std = 0.0079\n",
      "AUC: Mean = nan, Std = nan\n"
     ]
    }
   ],
   "source": [
    "# Evaluate tuned model on original data\n",
    "cv_results_tuned = cross_validate(best_mlp, X_scaled, y, cv=5, scoring=scorers)\n",
    "\n",
    "# Calculate metrics after tuning\n",
    "metrics_after_tuning = {\n",
    "    \"Accuracy\": (cv_results_tuned['test_accuracy'].mean(), cv_results_tuned['test_accuracy'].std()),\n",
    "    \"Precision\": (cv_results_tuned['test_precision'].mean(), cv_results_tuned['test_precision'].std()),\n",
    "    \"Recall\": (cv_results_tuned['test_recall'].mean(), cv_results_tuned['test_recall'].std()),\n",
    "    \"F1\": (cv_results_tuned['test_f1'].mean(), cv_results_tuned['test_f1'].std()),\n",
    "    \"AUC\": (cv_results_tuned['test_roc_auc'].mean(), cv_results_tuned['test_roc_auc'].std())\n",
    "}\n",
    "\n",
    "print(\"\\nMetrics after tuning (original data):\")\n",
    "for metric, (mean, std) in metrics_after_tuning.items():\n",
    "    print(f\"{metric}: Mean = {mean:.4f}, Std = {std:.4f}\")"
   ]
  },
  {
   "cell_type": "markdown",
   "metadata": {},
   "source": [
    "### Untuned with SMOTE"
   ]
  },
  {
   "cell_type": "code",
   "execution_count": 30,
   "metadata": {},
   "outputs": [
    {
     "name": "stdout",
     "output_type": "stream",
     "text": [
      "\n",
      "Applying SMOTE...\n"
     ]
    }
   ],
   "source": [
    "# Apply SMOTE\n",
    "print(\"\\nApplying SMOTE...\")\n",
    "smote = SMOTE(random_state=42)\n",
    "X_balanced, y_balanced = smote.fit_resample(X_scaled, y)"
   ]
  },
  {
   "cell_type": "code",
   "execution_count": 49,
   "metadata": {},
   "outputs": [
    {
     "name": "stdout",
     "output_type": "stream",
     "text": [
      "\n",
      "Evaluating initial model on SMOTE data...\n"
     ]
    }
   ],
   "source": [
    "# Evaluate initial model on SMOTE data\n",
    "print(\"\\nEvaluating initial model on SMOTE data...\")\n",
    "cv_results_smote = cross_validate(initial_mlp, X_balanced, y_balanced, cv=5, scoring=scorers)\n",
    "\n",
    "metrics_before_smote = {\n",
    "    \"Accuracy\": (cv_results_smote['test_accuracy'].mean(), cv_results_smote['test_accuracy'].std()),\n",
    "    \"Precision\": (cv_results_smote['test_precision'].mean(), cv_results_smote['test_precision'].std()),\n",
    "    \"Recall\": (cv_results_smote['test_recall'].mean(), cv_results_smote['test_recall'].std()),\n",
    "    \"F1\": (cv_results_smote['test_f1'].mean(), cv_results_smote['test_f1'].std()),\n",
    "    \"AUC\": (cv_results_smote['test_roc_auc'].mean(), cv_results_smote['test_roc_auc'].std())\n",
    "}\n",
    "\n",
    "print(\"\\nMetrics before tuning (SMOTE data):\")\n",
    "for metric, (mean, std) in metrics_before_smote.items():\n",
    "    print(f\"{metric}: Mean = {mean:.4f}, Std = {std:.4f}\")"
   ]
  },
  {
   "cell_type": "markdown",
   "metadata": {},
   "source": [
    "### Tuned with SMOTE"
   ]
  },
  {
   "cell_type": "markdown",
   "metadata": {},
   "source": [
    "### "
   ]
  },
  {
   "cell_type": "code",
   "execution_count": 50,
   "metadata": {},
   "outputs": [
    {
     "name": "stdout",
     "output_type": "stream",
     "text": [
      "\n",
      "Performing final hyperparameter tuning on SMOTE data...\n"
     ]
    }
   ],
   "source": [
    "# Final model tuning on SMOTE data\n",
    "print(\"\\nPerforming final hyperparameter tuning on SMOTE data...\")\n",
    "grid_search_final = GridSearchCV(MLPClassifier(random_state=42), param_grid, cv=5, scoring='f1_weighted', n_jobs=-1)\n",
    "grid_search_final.fit(X_balanced, y_balanced)\n",
    "best_mlp_final = grid_search_final.best_estimator_"
   ]
  },
  {
   "cell_type": "code",
   "execution_count": 51,
   "metadata": {},
   "outputs": [
    {
     "name": "stdout",
     "output_type": "stream",
     "text": [
      "\n",
      "Final metrics (tuned model on SMOTE data):\n",
      "Accuracy: Mean = 0.9703, Std = 0.0080\n",
      "Precision: Mean = 0.9709, Std = 0.0077\n",
      "Recall: Mean = 0.9703, Std = 0.0080\n",
      "F1: Mean = 0.9702, Std = 0.0079\n",
      "AUC: Mean = nan, Std = nan\n"
     ]
    }
   ],
   "source": [
    "# Final evaluation\n",
    "cv_results_final = cross_validate(best_mlp_final, X_balanced, y_balanced, cv=5, scoring=scorers)\n",
    "\n",
    "metrics_after_smote = {\n",
    "    \"Accuracy\": (cv_results_final['test_accuracy'].mean(), cv_results_final['test_accuracy'].std()),\n",
    "    \"Precision\": (cv_results_final['test_precision'].mean(), cv_results_final['test_precision'].std()),\n",
    "    \"Recall\": (cv_results_final['test_recall'].mean(), cv_results_final['test_recall'].std()),\n",
    "    \"F1\": (cv_results_final['test_f1'].mean(), cv_results_final['test_f1'].std()),\n",
    "    \"AUC\": (cv_results_final['test_roc_auc'].mean(), cv_results_final['test_roc_auc'].std())\n",
    "}\n",
    "\n",
    "print(\"\\nFinal metrics (tuned model on SMOTE data):\")\n",
    "for metric, (mean, std) in metrics_after_smote.items():\n",
    "    print(f\"{metric}: Mean = {mean:.4f}, Std = {std:.4f}\")"
   ]
  },
  {
   "cell_type": "markdown",
   "metadata": {},
   "source": [
    "### Final Evaluations"
   ]
  },
  {
   "cell_type": "code",
   "execution_count": 56,
   "metadata": {},
   "outputs": [
    {
     "name": "stdout",
     "output_type": "stream",
     "text": [
      "\n",
      "Best parameters: {'activation': 'relu', 'hidden_layer_sizes': (100,), 'learning_rate_init': 0.01, 'max_iter': 500}\n",
      "\n",
      "Final Classification Report:\n",
      "              precision    recall  f1-score   support\n",
      "\n",
      "       55-60       1.00      1.00      1.00       656\n",
      "       61-65       0.96      0.95      0.95       733\n",
      "       66-70       0.92      0.92      0.92       635\n",
      "       71-75       0.98      0.96      0.97       664\n",
      "       76-80       1.00      1.00      1.00       715\n",
      "         81+       0.97      1.00      0.99       669\n",
      "\n",
      "    accuracy                           0.97      4072\n",
      "   macro avg       0.97      0.97      0.97      4072\n",
      "weighted avg       0.97      0.97      0.97      4072\n",
      "\n",
      "Final Test Set Accuracy: 0.9718\n"
     ]
    }
   ],
   "source": [
    "# Split data for final predictions\n",
    "X_train, X_test, y_train, y_test = train_test_split(X_balanced, y_balanced, test_size=0.2, random_state=42)\n",
    "\n",
    "# Train final model and make predictions\n",
    "best_mlp_final.fit(X_train, y_train)\n",
    "y_pred = best_mlp_final.predict(X_test)\n",
    "\n",
    "print(\"\\nBest parameters:\", grid_search_final.best_params_)\n",
    "print(\"\\nFinal Classification Report:\")\n",
    "print(classification_report(y_test, y_pred))\n",
    "print(f\"Final Test Set Accuracy: {accuracy_score(y_test, y_pred):.4f}\")"
   ]
  },
  {
   "cell_type": "markdown",
   "metadata": {},
   "source": [
    "### Data Visualization"
   ]
  },
  {
   "cell_type": "code",
   "execution_count": 16,
   "metadata": {},
   "outputs": [],
   "source": [
    "# Visualization functions\n",
    "def plot_class_distribution():\n",
    "    plt.figure(figsize=(15, 5))\n",
    "    \n",
    "    plt.subplot(1, 2, 1)\n",
    "    original_distribution = pd.Series(y).value_counts()\n",
    "    plt.bar(original_distribution.index, original_distribution.values)\n",
    "    plt.title('Class Distribution Before SMOTE')\n",
    "    plt.xlabel('Score Range')\n",
    "    plt.ylabel('Number of Samples')\n",
    "    \n",
    "    plt.subplot(1, 2, 2)\n",
    "    balanced_distribution = pd.Series(y_balanced).value_counts()\n",
    "    plt.bar(balanced_distribution.index, balanced_distribution.values)\n",
    "    plt.title('Class Distribution After SMOTE')\n",
    "    plt.xlabel('Score Range')\n",
    "    plt.ylabel('Number of Samples')\n",
    "    \n",
    "    plt.tight_layout()\n",
    "    plt.show()"
   ]
  },
  {
   "cell_type": "code",
   "execution_count": 17,
   "metadata": {},
   "outputs": [],
   "source": [
    "def plot_metrics_comparison():\n",
    "    metrics = {\n",
    "        \"Accuracy\": [metrics_before_tuning[\"Accuracy\"][0], \n",
    "                    metrics_after_tuning[\"Accuracy\"][0],\n",
    "                    metrics_before_smote[\"Accuracy\"][0], \n",
    "                    metrics_after_smote[\"Accuracy\"][0]],\n",
    "        \"Precision\": [metrics_before_tuning[\"Precision\"][0],\n",
    "                     metrics_after_tuning[\"Precision\"][0],\n",
    "                     metrics_before_smote[\"Precision\"][0],\n",
    "                     metrics_after_smote[\"Precision\"][0]],\n",
    "        \"Recall\": [metrics_before_tuning[\"Recall\"][0],\n",
    "                  metrics_after_tuning[\"Recall\"][0],\n",
    "                  metrics_before_smote[\"Recall\"][0],\n",
    "                  metrics_after_smote[\"Recall\"][0]],\n",
    "        \"F1 Score\": [metrics_before_tuning[\"F1\"][0],\n",
    "                    metrics_after_tuning[\"F1\"][0],\n",
    "                    metrics_before_smote[\"F1\"][0],\n",
    "                    metrics_after_smote[\"F1\"][0]],\n",
    "        \"AUC\": [metrics_before_tuning[\"AUC\"][0],\n",
    "                metrics_after_tuning[\"AUC\"][0],\n",
    "                metrics_before_smote[\"AUC\"][0],\n",
    "                metrics_after_smote[\"AUC\"][0]]\n",
    "    }\n",
    "    \n",
    "    metrics_df = pd.DataFrame(metrics, \n",
    "                            index=[\"Before Tuning\", \"After Tuning\",\n",
    "                                  \"SMOTE Before Tuning\", \"SMOTE After Tuning\"])\n",
    "    metrics_df.plot(kind='bar', figsize=(12, 6), colormap=\"viridis\")\n",
    "    plt.title(\"Performance Metrics Comparison\")\n",
    "    plt.ylabel(\"Score\")\n",
    "    plt.legend(title=\"Metrics\", bbox_to_anchor=(1.05, 1))\n",
    "    plt.tight_layout()\n",
    "    plt.show()"
   ]
  },
  {
   "cell_type": "code",
   "execution_count": 18,
   "metadata": {},
   "outputs": [],
   "source": [
    "def plot_confusion_matrix():\n",
    "    # Split data for final evaluation\n",
    "    X_train, X_test, y_train, y_test = train_test_split(X_balanced, y_balanced, test_size=0.2, random_state=42)\n",
    "    best_mlp_final.fit(X_train, y_train)\n",
    "    y_pred = best_mlp_final.predict(X_test)\n",
    "    \n",
    "    plt.figure(figsize=(10, 8))\n",
    "    cm = confusion_matrix(y_test, y_pred)\n",
    "    sns.heatmap(cm, annot=True, fmt='d', cmap='Blues',\n",
    "                xticklabels=sorted(y.unique()),\n",
    "                yticklabels=sorted(y.unique()))\n",
    "    plt.title('Confusion Matrix')\n",
    "    plt.xlabel('Predicted')\n",
    "    plt.ylabel('True')\n",
    "    plt.tight_layout()\n",
    "    plt.show()"
   ]
  },
  {
   "cell_type": "code",
   "execution_count": 19,
   "metadata": {},
   "outputs": [
    {
     "ename": "NameError",
     "evalue": "name 'y' is not defined",
     "output_type": "error",
     "traceback": [
      "\u001b[1;31m---------------------------------------------------------------------------\u001b[0m",
      "\u001b[1;31mNameError\u001b[0m                                 Traceback (most recent call last)",
      "Cell \u001b[1;32mIn[19], line 2\u001b[0m\n\u001b[0;32m      1\u001b[0m \u001b[38;5;66;03m# Generate plots\u001b[39;00m\n\u001b[1;32m----> 2\u001b[0m \u001b[43mplot_class_distribution\u001b[49m\u001b[43m(\u001b[49m\u001b[43m)\u001b[49m\n\u001b[0;32m      3\u001b[0m plot_metrics_comparison()\n\u001b[0;32m      4\u001b[0m plot_confusion_matrix()\n",
      "Cell \u001b[1;32mIn[16], line 6\u001b[0m, in \u001b[0;36mplot_class_distribution\u001b[1;34m()\u001b[0m\n\u001b[0;32m      3\u001b[0m plt\u001b[38;5;241m.\u001b[39mfigure(figsize\u001b[38;5;241m=\u001b[39m(\u001b[38;5;241m15\u001b[39m, \u001b[38;5;241m5\u001b[39m))\n\u001b[0;32m      5\u001b[0m plt\u001b[38;5;241m.\u001b[39msubplot(\u001b[38;5;241m1\u001b[39m, \u001b[38;5;241m2\u001b[39m, \u001b[38;5;241m1\u001b[39m)\n\u001b[1;32m----> 6\u001b[0m original_distribution \u001b[38;5;241m=\u001b[39m pd\u001b[38;5;241m.\u001b[39mSeries(\u001b[43my\u001b[49m)\u001b[38;5;241m.\u001b[39mvalue_counts()\n\u001b[0;32m      7\u001b[0m plt\u001b[38;5;241m.\u001b[39mbar(original_distribution\u001b[38;5;241m.\u001b[39mindex, original_distribution\u001b[38;5;241m.\u001b[39mvalues)\n\u001b[0;32m      8\u001b[0m plt\u001b[38;5;241m.\u001b[39mtitle(\u001b[38;5;124m'\u001b[39m\u001b[38;5;124mClass Distribution Before SMOTE\u001b[39m\u001b[38;5;124m'\u001b[39m)\n",
      "\u001b[1;31mNameError\u001b[0m: name 'y' is not defined"
     ]
    },
    {
     "data": {
      "image/png": "[encoded data removed]",
      "text/plain": [
       "<Figure size 1500x500 with 1 Axes>"
      ]
     },
     "metadata": {},
     "output_type": "display_data"
    }
   ],
   "source": [
    "# Generate plots\n",
    "plot_class_distribution()\n",
    "plot_metrics_comparison()\n",
    "plot_confusion_matrix()"
   ]
  }
 ],
 "metadata": {
  "kernelspec": {
   "display_name": "Python 3",
   "language": "python",
   "name": "python3"
  },
  "language_info": {
   "codemirror_mode": {
    "name": "ipython",
    "version": 3
   },
   "file_extension": ".py",
   "mimetype": "text/x-python",
   "name": "python",
   "nbconvert_exporter": "python",
   "pygments_lexer": "ipython3",
   "version": "3.13.0"
  }
 },
 "nbformat": 4,
 "nbformat_minor": 2
}
